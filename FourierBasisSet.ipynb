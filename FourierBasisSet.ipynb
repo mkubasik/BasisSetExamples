{
  "cells": [
    {
      "cell_type": "markdown",
      "id": "bfc4eb7c",
      "metadata": {
        "id": "bfc4eb7c"
      },
      "source": [
        "The Fourier Expansion as a Complete Basis Set on $[-1, 1]$\n",
        "---\n",
        "\n",
        "### What is a basis set?\n",
        "\n",
        "The set of functions $\\{1, \\cos(n\\pi x), \\sin(n\\pi x)\\}$ for $n = 1, 2, 3, \\ldots$ forms a **complete orthogonal basis** for the space of square-integrable functions ($L^2$) on the interval $[-1, 1]$.\n",
        "\n",
        "**Key Concepts:**\n",
        "\n",
        "- **Square Integrable Functions:** A function $f(x)$ is square integrable on $[-1, 1]$ if $\\int_{-1}^1 |f(x)|^2 dx < \\infty$.\n",
        "\n",
        "    Any function, $f(x)$, that has the property $\\int_{-1}^1 |f(x)|^2 dx =1 $ is said to be **normalized**.\n",
        "- **Orthogonality:** Functions of  basis set are orthogonal under the inner product $\\langle f, g \\rangle = \\int_{-1}^1 f(x)g(x)dx$.\n",
        "\n",
        "    Any two functions, $f(x)$ and $g(x)$ that have the property $ \\int_{-1}^1 f(x)g(x)dx =0 $ are said to be **orthogonal**.\n",
        "- **Completeness:** Any square integrable function $f(x)$ on $[-1, 1]$ can be represented as an infinite sum (series) of these basis functions:\n",
        "\n",
        "    $$ f(x) = a_0 + \\sum_{n=1}^{\\infty} \\left[ a_n  \\cos(n\\pi x) + b_n \\sin(n\\pi x) \\right] $$\n",
        "\n",
        "    where the coefficients $a_n$ and $b_n$ are determined by projecting $f(x)$ onto each basis function.\n",
        "\n",
        "**Implication:**\n",
        "\n",
        "- The Fourier expansion allows us to approximate or reconstruct any function in $L^2([-1, 1])$ with arbitrary accuracy by including enough terms.\n",
        "- This property is fundamental in mathematical analysis, signal processing, and solving partial differential equations.\n",
        "\n",
        "**Summary:**\n",
        "\n",
        "The Fourier basis on $[-1, 1]$ is universal for square-integrable functions: any such function can be decomposed into a (possibly infinite) sum of sines and cosines, making the set a complete basis for $L^2([-1, 1])$."
      ]
    },
    {
      "cell_type": "code",
      "execution_count": null,
      "id": "5ce830dd",
      "metadata": {
        "id": "5ce830dd"
      },
      "outputs": [],
      "source": [
        "import sympy as sp\n",
        "import numpy as np\n",
        "import matplotlib.pyplot as plt\n",
        "\n",
        "x = sp.symbols('x')\n",
        "f1 = sp.sin(sp.pi * x)\n",
        "\n",
        "x_vals = np.linspace(-1,1, 400)\n",
        "y_vals = [sp.N(f1.subs(x, val)) for val in x_vals]\n",
        "\n",
        "plt.plot(x_vals, y_vals)\n",
        "plt.xlabel('x')\n",
        "plt.ylabel('sin(pi x)')\n",
        "plt.title('Plot of sin(pi x) from -1 to 1')\n",
        "plt.grid(True)\n",
        "plt.show()\n"
      ]
    },
    {
      "cell_type": "code",
      "execution_count": null,
      "id": "555049fd",
      "metadata": {
        "id": "555049fd"
      },
      "outputs": [],
      "source": [
        "x = sp.symbols('x')\n",
        "f1 = sp.sin(sp.pi * x)\n",
        "f2 = sp.sin(2*sp.pi * x)\n",
        "f3 = sp.sin(3*sp.pi * x)\n",
        "\n",
        "x_vals = np.linspace(-1,1, 400)\n",
        "y_valsf1 = [sp.N(f1.subs(x, val)) for val in x_vals]\n",
        "y_valsf2 = [sp.N(f2.subs(x, val)) for val in x_vals]\n",
        "y_valsf3 = [sp.N(f3.subs(x, val)) for val in x_vals]\n",
        "\n",
        "plt.plot(x_vals, y_valsf1, label='f1(x) = sin(pi x)', color='blue')\n",
        "plt.plot(x_vals, y_valsf2, label='f2(x) = sin(2pi x)', color='orange')\n",
        "#plt.plot(x_vals, y_valsf3, label='sin(3pi x)', color='green')\n",
        "plt.xlabel('x')\n",
        "plt.ylabel('sin(2pi x)')\n",
        "plt.title('Plots of sinwaves from -1 to 1')\n",
        "plt.grid(True)\n",
        "plt.legend()\n",
        "plt.show()"
      ]
    },
    {
      "cell_type": "code",
      "execution_count": null,
      "id": "62eec83e",
      "metadata": {
        "id": "62eec83e"
      },
      "outputs": [],
      "source": [
        "x = sp.symbols('x')\n",
        "g1 = sp.cos(sp.pi * x)\n",
        "g2 = sp.cos(2*sp.pi * x)\n",
        "g3 = sp.cos(3*sp.pi * x)\n",
        "\n",
        "x_vals = np.linspace(-1,1, 400)\n",
        "y_valsg1 = [sp.N(g1.subs(x, val)) for val in x_vals]\n",
        "y_valsg2 = [sp.N(g2.subs(x, val)) for val in x_vals]\n",
        "y_valsg3 = [sp.N(g3.subs(x, val)) for val in x_vals]\n",
        "\n",
        "plt.plot(x_vals, y_valsg1, label='g1(x) = cos(pi x)', color='blue')\n",
        "plt.plot(x_vals, y_valsg2, label='g2(x) = cos(2pi x)', color='orange')\n",
        "#plt.plot(x_vals, y_valsg3, label='sin(3pi x)', color='green')\n",
        "plt.xlabel('x')\n",
        "plt.ylabel('sin(2pi x)')\n",
        "plt.title('Plot of Cosines from -1 to 1')\n",
        "plt.grid(True)\n",
        "plt.legend()\n",
        "plt.show()"
      ]
    },
    {
      "cell_type": "markdown",
      "id": "8e538bdb",
      "metadata": {
        "id": "8e538bdb"
      },
      "source": [
        "Are the f functions orthogonal to the g functions?\n"
      ]
    },
    {
      "cell_type": "code",
      "execution_count": null,
      "id": "48003724",
      "metadata": {
        "id": "48003724"
      },
      "outputs": [],
      "source": [
        "sp.Integral(f1 * g1, (x, -1, 1))"
      ]
    },
    {
      "cell_type": "code",
      "execution_count": null,
      "id": "ccc61659",
      "metadata": {
        "id": "ccc61659"
      },
      "outputs": [],
      "source": [
        "sp.Integral(f2 * g1, (x, -1, 1)).doit()"
      ]
    },
    {
      "cell_type": "code",
      "execution_count": null,
      "id": "6c2049db",
      "metadata": {
        "id": "6c2049db"
      },
      "outputs": [],
      "source": [
        "h1 = f1*g1\n",
        "x_vals = np.linspace(-1,1, 400)\n",
        "y_valsh = [sp.N(h1.subs(x, val)) for val in x_vals]\n",
        "\n",
        "plt.plot(x_vals, y_valsh, label='sin(pi x) * cos(pi x)', color='blue')\n",
        "plt.plot(x_vals, y_valsg1, color='black', linestyle='--')\n",
        "plt.plot(x_vals, y_valsf1, color='red', linestyle='--')\n",
        "plt.axhline(0, color='gray', linewidth=1, linestyle='--')\n",
        "\n",
        "y0 = np.linspace(-1,1, 400)\n",
        "y0 = 0*y0\n",
        "#plt.fill_between(x_vals, y0, y_valsh, where=np.array(y_valsh) > 0, color='lightblue', alpha=0.4)\n",
        "#plt.fill_between(x_vals, y_valsh, y0,  color='red', alpha=0.3)\n",
        "plt.legend()\n",
        "plt.show()\n"
      ]
    },
    {
      "cell_type": "code",
      "execution_count": null,
      "id": "f15170ef",
      "metadata": {
        "id": "f15170ef"
      },
      "outputs": [],
      "source": [
        "m = x**2\n",
        "y_vals_m = [sp.N(m.subs(x, val)) for val in x_vals]\n",
        "\n",
        "\n",
        "plt.plot(x_vals, y_vals_m, label='x^2', color='blue')\n",
        "plt.axhline(0, color='gray', linewidth=1, linestyle='--')\n",
        "plt.show()"
      ]
    },
    {
      "cell_type": "code",
      "execution_count": null,
      "id": "49b5f78d",
      "metadata": {
        "id": "49b5f78d"
      },
      "outputs": [],
      "source": [
        "c0 = sp.Integral(m, (x, -1, 1)).doit() / 2\n",
        "c1 = sp.Integral(m * g1, (x, -1, 1)).doit()\n",
        "c2 = sp.Integral(m * g2, (x, -1, 1)).doit()\n",
        "c3 = sp.Integral(m * g3, (x, -1, 1)).doit()"
      ]
    },
    {
      "cell_type": "code",
      "execution_count": null,
      "id": "cf3097ca",
      "metadata": {
        "id": "cf3097ca"
      },
      "outputs": [],
      "source": [
        "c0"
      ]
    },
    {
      "cell_type": "code",
      "execution_count": null,
      "id": "8e2e1c9b",
      "metadata": {
        "id": "8e2e1c9b"
      },
      "outputs": [],
      "source": [
        "c1"
      ]
    },
    {
      "cell_type": "code",
      "execution_count": null,
      "id": "68d9ffa6",
      "metadata": {
        "id": "68d9ffa6"
      },
      "outputs": [],
      "source": [
        "c2"
      ]
    },
    {
      "cell_type": "code",
      "execution_count": null,
      "id": "e5227da9",
      "metadata": {
        "id": "e5227da9"
      },
      "outputs": [],
      "source": [
        "c3"
      ]
    },
    {
      "cell_type": "code",
      "execution_count": null,
      "id": "6630672c",
      "metadata": {
        "id": "6630672c"
      },
      "outputs": [],
      "source": [
        "four_terms = c0 +c1 * g1 + c2 * g2 + c3 * g3\n",
        "y_vals_fourterms = [sp.N(four_terms.subs(x, val)) for val in x_vals]\n",
        "plt.plot(x_vals, y_vals_m, label=r'$x^2$', color='blue')\n",
        "plt.plot(x_vals, y_vals_fourterms, label='4-term approx', color='orange', linestyle='--')\n",
        "plt.axhline(0, color='gray', linewidth=1, linestyle='--')\n",
        "plt.legend()\n",
        "plt.show()\n"
      ]
    },
    {
      "cell_type": "code",
      "execution_count": null,
      "id": "50f3b3bb",
      "metadata": {
        "vscode": {
          "languageId": "r"
        },
        "id": "50f3b3bb"
      },
      "outputs": [],
      "source": [
        "# Compute coefficients for the next three terms (g4, g5, g6)\n",
        "g4 = sp.cos(4 * sp.pi * x)\n",
        "g5 = sp.cos(5 * sp.pi * x)\n",
        "g6 = sp.cos(6 * sp.pi * x)\n",
        "\n",
        "c4 = sp.Integral(m * g4, (x, -1, 1)).doit()\n",
        "c5 = sp.Integral(m * g5, (x, -1, 1)).doit()\n",
        "c6 = sp.Integral(m * g6, (x, -1, 1)).doit()\n",
        "\n",
        "# Build the 7-term approximation\n",
        "seven_terms = four_terms + c4 * g4 + c5 * g5 + c6 * g6\n",
        "\n",
        "# Evaluate the 7-term approximation at x_vals\n",
        "y_vals_seven = [sp.N(seven_terms.subs(x, val)) for val in x_vals]\n",
        "\n",
        "# Plot x^2 and the 7-term approximation\n",
        "plt.plot(x_vals, y_vals_m, label='x^2', color='blue')\n",
        "plt.plot(x_vals, y_vals_seven, label='7-term approx', color='green', linestyle='--')\n",
        "plt.axhline(0, color='gray', linewidth=1, linestyle='--')\n",
        "plt.legend()\n",
        "plt.show()"
      ]
    },
    {
      "cell_type": "code",
      "source": [
        "c4"
      ],
      "metadata": {
        "id": "DhJPUxIIJIIf"
      },
      "id": "DhJPUxIIJIIf",
      "execution_count": null,
      "outputs": []
    },
    {
      "cell_type": "code",
      "source": [
        "c5"
      ],
      "metadata": {
        "id": "mJ5iTYE5JKGv"
      },
      "id": "mJ5iTYE5JKGv",
      "execution_count": null,
      "outputs": []
    },
    {
      "cell_type": "code",
      "source": [
        "c6"
      ],
      "metadata": {
        "id": "Vn7rMdEeJMKD"
      },
      "id": "Vn7rMdEeJMKD",
      "execution_count": null,
      "outputs": []
    },
    {
      "cell_type": "code",
      "source": [
        "n = sp.symbols('n', integer=True, positive=True)"
      ],
      "metadata": {
        "id": "tJS-9nnfJe0T"
      },
      "id": "tJS-9nnfJe0T",
      "execution_count": null,
      "outputs": []
    },
    {
      "cell_type": "code",
      "source": [
        "sp.Integral(m * sp.cos(n * sp.pi * x), (x, -1, 1))"
      ],
      "metadata": {
        "id": "6RybY9uPJVFb"
      },
      "id": "6RybY9uPJVFb",
      "execution_count": null,
      "outputs": []
    },
    {
      "cell_type": "code",
      "source": [
        "sp.Integral(m * sp.sin(n * sp.pi * x), (x, -1, 1))\n"
      ],
      "metadata": {
        "id": "1hwebNGnJzIm"
      },
      "id": "1hwebNGnJzIm",
      "execution_count": null,
      "outputs": []
    },
    {
      "cell_type": "markdown",
      "source": [
        "Analytical expression for $\\int_{-1}^1 x^2 cos(n \\pi x) dx$"
      ],
      "metadata": {
        "id": "he6G8hG7pZYm"
      },
      "id": "he6G8hG7pZYm"
    },
    {
      "cell_type": "code",
      "metadata": {
        "id": "4ed7c14a"
      },
      "source": [
        "sp.Integral(m * sp.cos(n * sp.pi * x), (x, -1, 1)).doit()"
      ],
      "id": "4ed7c14a",
      "execution_count": null,
      "outputs": []
    },
    {
      "cell_type": "code",
      "execution_count": null,
      "id": "42ff18be",
      "metadata": {
        "id": "42ff18be"
      },
      "outputs": [],
      "source": [
        "# Plot the difference between x^2 and the 7-term finite series approximation\n",
        "diff_7terms = np.array(y_vals_m) - np.array(y_vals_seven)\n",
        "plt.plot(x_vals, diff_7terms, label='x^2 - 7-term approx', color='purple')\n",
        "plt.axhline(0, color='gray', linewidth=1, linestyle='--')\n",
        "plt.xlabel('x')\n",
        "plt.ylabel('Difference')\n",
        "plt.title('Difference between $x^2$ and 7-term Fourier Cosine Series Approximation')\n",
        "plt.legend()\n",
        "plt.show()"
      ]
    },
    {
      "cell_type": "code",
      "execution_count": null,
      "id": "115eafa7",
      "metadata": {
        "id": "115eafa7"
      },
      "outputs": [],
      "source": [
        "# Compute coefficients and terms for g7 to g21\n",
        "g_terms = []\n",
        "c_terms = []\n",
        "for n in range(7, 22):\n",
        "    g_n = sp.cos(n * sp.pi * x)\n",
        "    c_n = sp.Integral(m * g_n, (x, -1, 1)).doit()\n",
        "    g_terms.append(g_n)\n",
        "    c_terms.append(c_n)\n",
        "\n",
        "# Build the 22-term approximation\n",
        "twentytwo_terms = seven_terms + sum(c * g for c, g in zip(c_terms, g_terms))\n",
        "\n",
        "# Evaluate the 22-term approximation at x_vals\n",
        "y_vals_22terms = [sp.N(twentytwo_terms.subs(x, val)) for val in x_vals]\n",
        "\n",
        "# Plot x^2 and the 22-term approximation\n",
        "plt.plot(x_vals, y_vals_m, label=r'$x^2$', color='blue')\n",
        "plt.plot(x_vals, y_vals_22terms, label='22-term approx', color='red', linestyle='--')\n",
        "plt.axhline(0, color='gray', linewidth=1, linestyle='--')\n",
        "plt.legend()\n",
        "plt.show()"
      ]
    },
    {
      "cell_type": "code",
      "execution_count": null,
      "id": "feabff40",
      "metadata": {
        "id": "feabff40"
      },
      "outputs": [],
      "source": [
        "# Plot the difference between x^2 and the 22-term finite series approximation\n",
        "diff_22terms = np.array(y_vals_m) - np.array(y_vals_22terms)\n",
        "plt.plot(x_vals, diff_22terms, label='$x^2$ - 22-term approx', color='purple')\n",
        "plt.plot(x_vals, diff_7terms, label='x^2 - 7-term approx', color='green')\n",
        "diff_7terms\n",
        "plt.axhline(0, color='gray', linewidth=1, linestyle='--')\n",
        "plt.xlabel('x')\n",
        "plt.ylabel('Difference')\n",
        "plt.title('Difference between $x^2$ and 22-term Fourier Cosine Series Approximation')\n",
        "plt.legend()\n",
        "plt.show()"
      ]
    },
    {
      "cell_type": "code",
      "source": [],
      "metadata": {
        "id": "XFM0-0A2oQhB"
      },
      "id": "XFM0-0A2oQhB",
      "execution_count": null,
      "outputs": []
    }
  ],
  "metadata": {
    "kernelspec": {
      "display_name": "pchemII",
      "language": "python",
      "name": "python3"
    },
    "language_info": {
      "codemirror_mode": {
        "name": "ipython",
        "version": 3
      },
      "file_extension": ".py",
      "mimetype": "text/x-python",
      "name": "python",
      "nbconvert_exporter": "python",
      "pygments_lexer": "ipython3",
      "version": "3.10.14"
    },
    "colab": {
      "provenance": []
    }
  },
  "nbformat": 4,
  "nbformat_minor": 5
}